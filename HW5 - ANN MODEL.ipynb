{
 "cells": [
  {
   "cell_type": "markdown",
   "metadata": {},
   "source": [
    "<b>Name: Ankit Pattanayak<br>\n",
    "CSULB ID: 027646357` </b>"
   ]
  },
  {
   "cell_type": "markdown",
   "metadata": {},
   "source": [
    "<b> In this assignment, we build a simple ANN model for a dataset and we explore some methods to optimize model parameters.</b>"
   ]
  },
  {
   "cell_type": "markdown",
   "metadata": {},
   "source": [
    "### Sequence of operations:\n",
    "1) Import libaries<br>\n",
    "2) Loading data<br>\n",
    "3) Feature-engineering<br>\n",
    "4) Split data to train, validation and test data<br>\n",
    "5) Tune params using GridSearchCV<br>\n",
    "6) Apply model on validation data<br>\n",
    "7) View confusion matrix on validation data<br>\n",
    "8) If satisfied, apply model on test data<br>\n",
    "9) View confusion matrix on test data<br>\n",
    "10) Interpret the precision and recall values<br>\n",
    "11) Draw loss curves for validation and test data<br>\n",
    "12) Identify if the curves indicate overfitting problems<br>"
   ]
  },
  {
   "cell_type": "markdown",
   "metadata": {},
   "source": [
    "<b>4- ANN project description<br>\n",
    "Part 1 – Loading the required libraries and modules</b>"
   ]
  },
  {
   "cell_type": "code",
   "execution_count": 1,
   "metadata": {},
   "outputs": [],
   "source": [
    "#Pandas\n",
    "import pandas as pd\n",
    "\n",
    "#Numpy\n",
    "import numpy as np\n",
    "\n",
    "#Mat-plot libary\n",
    "import matplotlib.pyplot as plt\n",
    "\n",
    "#SK-learn\n",
    "import sklearn as sk\n",
    "\n",
    "#Train-Test-Split\n",
    "from sklearn.model_selection import train_test_split\n",
    "\n",
    "#MLP Classifier\n",
    "from sklearn.neural_network import MLPClassifier\n",
    "\n",
    "#Confusion Matrix\n",
    "from sklearn.metrics import classification_report,confusion_matrix\n",
    "\n",
    "#Visual effects for confusion matrix\n",
    "import seaborn as sns"
   ]
  },
  {
   "cell_type": "markdown",
   "metadata": {},
   "source": [
    "<b>Part 2 – Reading the data and performing basic data checks<br>\n",
    "1- Use describe() method of the dataframe (e.g df.describe()) to output the data\n",
    "dimensions and fields basic stats.</b>"
   ]
  },
  {
   "cell_type": "code",
   "execution_count": 2,
   "metadata": {},
   "outputs": [
    {
     "data": {
      "text/html": [
       "<div>\n",
       "<style scoped>\n",
       "    .dataframe tbody tr th:only-of-type {\n",
       "        vertical-align: middle;\n",
       "    }\n",
       "\n",
       "    .dataframe tbody tr th {\n",
       "        vertical-align: top;\n",
       "    }\n",
       "\n",
       "    .dataframe thead th {\n",
       "        text-align: right;\n",
       "    }\n",
       "</style>\n",
       "<table border=\"1\" class=\"dataframe\">\n",
       "  <thead>\n",
       "    <tr style=\"text-align: right;\">\n",
       "      <th></th>\n",
       "      <th>Pregnancies</th>\n",
       "      <th>Glucose</th>\n",
       "      <th>BloodPressure</th>\n",
       "      <th>SkinThickness</th>\n",
       "      <th>Insulin</th>\n",
       "      <th>BMI</th>\n",
       "      <th>DiabetesPedigreeFunction</th>\n",
       "      <th>Age</th>\n",
       "      <th>Outcome</th>\n",
       "    </tr>\n",
       "  </thead>\n",
       "  <tbody>\n",
       "    <tr>\n",
       "      <th>count</th>\n",
       "      <td>768.000000</td>\n",
       "      <td>768.000000</td>\n",
       "      <td>768.000000</td>\n",
       "      <td>768.000000</td>\n",
       "      <td>768.000000</td>\n",
       "      <td>768.000000</td>\n",
       "      <td>768.000000</td>\n",
       "      <td>768.000000</td>\n",
       "      <td>768.000000</td>\n",
       "    </tr>\n",
       "    <tr>\n",
       "      <th>mean</th>\n",
       "      <td>3.845052</td>\n",
       "      <td>120.894531</td>\n",
       "      <td>69.105469</td>\n",
       "      <td>20.536458</td>\n",
       "      <td>79.799479</td>\n",
       "      <td>31.992578</td>\n",
       "      <td>0.471876</td>\n",
       "      <td>33.240885</td>\n",
       "      <td>0.348958</td>\n",
       "    </tr>\n",
       "    <tr>\n",
       "      <th>std</th>\n",
       "      <td>3.369578</td>\n",
       "      <td>31.972618</td>\n",
       "      <td>19.355807</td>\n",
       "      <td>15.952218</td>\n",
       "      <td>115.244002</td>\n",
       "      <td>7.884160</td>\n",
       "      <td>0.331329</td>\n",
       "      <td>11.760232</td>\n",
       "      <td>0.476951</td>\n",
       "    </tr>\n",
       "    <tr>\n",
       "      <th>min</th>\n",
       "      <td>0.000000</td>\n",
       "      <td>0.000000</td>\n",
       "      <td>0.000000</td>\n",
       "      <td>0.000000</td>\n",
       "      <td>0.000000</td>\n",
       "      <td>0.000000</td>\n",
       "      <td>0.078000</td>\n",
       "      <td>21.000000</td>\n",
       "      <td>0.000000</td>\n",
       "    </tr>\n",
       "    <tr>\n",
       "      <th>25%</th>\n",
       "      <td>1.000000</td>\n",
       "      <td>99.000000</td>\n",
       "      <td>62.000000</td>\n",
       "      <td>0.000000</td>\n",
       "      <td>0.000000</td>\n",
       "      <td>27.300000</td>\n",
       "      <td>0.243750</td>\n",
       "      <td>24.000000</td>\n",
       "      <td>0.000000</td>\n",
       "    </tr>\n",
       "    <tr>\n",
       "      <th>50%</th>\n",
       "      <td>3.000000</td>\n",
       "      <td>117.000000</td>\n",
       "      <td>72.000000</td>\n",
       "      <td>23.000000</td>\n",
       "      <td>30.500000</td>\n",
       "      <td>32.000000</td>\n",
       "      <td>0.372500</td>\n",
       "      <td>29.000000</td>\n",
       "      <td>0.000000</td>\n",
       "    </tr>\n",
       "    <tr>\n",
       "      <th>75%</th>\n",
       "      <td>6.000000</td>\n",
       "      <td>140.250000</td>\n",
       "      <td>80.000000</td>\n",
       "      <td>32.000000</td>\n",
       "      <td>127.250000</td>\n",
       "      <td>36.600000</td>\n",
       "      <td>0.626250</td>\n",
       "      <td>41.000000</td>\n",
       "      <td>1.000000</td>\n",
       "    </tr>\n",
       "    <tr>\n",
       "      <th>max</th>\n",
       "      <td>17.000000</td>\n",
       "      <td>199.000000</td>\n",
       "      <td>122.000000</td>\n",
       "      <td>99.000000</td>\n",
       "      <td>846.000000</td>\n",
       "      <td>67.100000</td>\n",
       "      <td>2.420000</td>\n",
       "      <td>81.000000</td>\n",
       "      <td>1.000000</td>\n",
       "    </tr>\n",
       "  </tbody>\n",
       "</table>\n",
       "</div>"
      ],
      "text/plain": [
       "       Pregnancies     Glucose  BloodPressure  SkinThickness     Insulin  \\\n",
       "count   768.000000  768.000000     768.000000     768.000000  768.000000   \n",
       "mean      3.845052  120.894531      69.105469      20.536458   79.799479   \n",
       "std       3.369578   31.972618      19.355807      15.952218  115.244002   \n",
       "min       0.000000    0.000000       0.000000       0.000000    0.000000   \n",
       "25%       1.000000   99.000000      62.000000       0.000000    0.000000   \n",
       "50%       3.000000  117.000000      72.000000      23.000000   30.500000   \n",
       "75%       6.000000  140.250000      80.000000      32.000000  127.250000   \n",
       "max      17.000000  199.000000     122.000000      99.000000  846.000000   \n",
       "\n",
       "              BMI  DiabetesPedigreeFunction         Age     Outcome  \n",
       "count  768.000000                768.000000  768.000000  768.000000  \n",
       "mean    31.992578                  0.471876   33.240885    0.348958  \n",
       "std      7.884160                  0.331329   11.760232    0.476951  \n",
       "min      0.000000                  0.078000   21.000000    0.000000  \n",
       "25%     27.300000                  0.243750   24.000000    0.000000  \n",
       "50%     32.000000                  0.372500   29.000000    0.000000  \n",
       "75%     36.600000                  0.626250   41.000000    1.000000  \n",
       "max     67.100000                  2.420000   81.000000    1.000000  "
      ]
     },
     "execution_count": 2,
     "metadata": {},
     "output_type": "execute_result"
    }
   ],
   "source": [
    "#Reading the data\n",
    "data = pd.read_csv(\"diabetes.csv\")\n",
    "\n",
    "#Validate loading of data\n",
    "data.describe()"
   ]
  },
  {
   "cell_type": "markdown",
   "metadata": {},
   "source": [
    "## Feature-engineering"
   ]
  },
  {
   "cell_type": "code",
   "execution_count": 3,
   "metadata": {},
   "outputs": [
    {
     "data": {
      "text/plain": [
       "{'DiabetesPedigreeFunction': 0,\n",
       " 'Age': 0,\n",
       " 'Glucose': 5,\n",
       " 'BMI': 11,\n",
       " 'BloodPressure': 35,\n",
       " 'Pregnancies': 111,\n",
       " 'SkinThickness': 227,\n",
       " 'Insulin': 374}"
      ]
     },
     "execution_count": 3,
     "metadata": {},
     "output_type": "execute_result"
    }
   ],
   "source": [
    "#Feature-selection based on count of zeroes in data\n",
    "zeroes = {}\n",
    "for c in data.columns[:-1]:\n",
    "    col_data = data[c].replace(0,np.nan)\n",
    "    zeroes[c] = len(data)-col_data.count()\n",
    "dict(sorted(zeroes.items(), key=lambda item: item[1]))"
   ]
  },
  {
   "cell_type": "markdown",
   "metadata": {},
   "source": [
    "<b> Dropping SkinThickness, Insulin and Age columns due to the presence of excess of zeroes and due to the nature of data"
   ]
  },
  {
   "cell_type": "code",
   "execution_count": 4,
   "metadata": {},
   "outputs": [],
   "source": [
    "data = data.drop(columns=[\"SkinThickness\",\"Insulin\",\"Age\"])"
   ]
  },
  {
   "cell_type": "markdown",
   "metadata": {},
   "source": [
    "<b> Part 3 – Creating the train and test datasets </b>"
   ]
  },
  {
   "cell_type": "code",
   "execution_count": 5,
   "metadata": {},
   "outputs": [
    {
     "name": "stdout",
     "output_type": "stream",
     "text": [
      "Inputs\n",
      "    Pregnancies  Glucose  BloodPressure   BMI  DiabetesPedigreeFunction\n",
      "0            6      148             72  33.6                     0.627\n",
      "1            1       85             66  26.6                     0.351\n",
      "---------------------------------------------------------------------- \n",
      "Outputs\n",
      "0    1\n",
      "1    0\n",
      "Name: Outcome, dtype: int64\n"
     ]
    }
   ],
   "source": [
    "#Splitting dataset into input(X) and output(Y)\n",
    "X = data.drop('Outcome', axis = 1)\n",
    "Y = data['Outcome']\n",
    "\n",
    "print(\"Inputs\\n\", X.head(2))\n",
    "print(\"-\"*70, \"\\nOutputs\")\n",
    "print(Y.head(2))"
   ]
  },
  {
   "cell_type": "markdown",
   "metadata": {},
   "source": [
    "<b>1- Split your data into train, test and, validation.<br>\n",
    "2- Split your data based on the ratio of train = 0.75, validation = 0.15 and, test = 0.10<br>\n",
    "3- Print out the total number of rows and the number of rows allocated for each<br>\n",
    "category above.</b>"
   ]
  },
  {
   "cell_type": "code",
   "execution_count": 6,
   "metadata": {},
   "outputs": [
    {
     "name": "stdout",
     "output_type": "stream",
     "text": [
      "Total data:(100%)    (768, 5)\n",
      "Training data:(75%)  (576, 5)\n",
      "Testing data:(10%)   (77, 5)\n",
      "Validation data:(15%)(115, 5)\n"
     ]
    }
   ],
   "source": [
    "X_train, X_test, Y_train, Y_test = train_test_split(X, Y,test_size=0.25, random_state = 0)\n",
    "X_val, X_test, Y_val, Y_test = train_test_split(X_test, Y_test, test_size=0.4, random_state = 0)\n",
    "print(f\"Total data:(100%)    {X.shape}\")\n",
    "print(f\"Training data:(75%)  {X_train.shape}\")\n",
    "print(f\"Testing data:(10%)   {X_test.shape}\")\n",
    "print(f\"Validation data:(15%){X_val.shape}\")"
   ]
  },
  {
   "cell_type": "markdown",
   "metadata": {},
   "source": [
    "<b>Part 4 – Building your model<br>\n",
    "1- Use neural_network classifier to build your network. </b>"
   ]
  },
  {
   "cell_type": "code",
   "execution_count": 7,
   "metadata": {},
   "outputs": [
    {
     "data": {
      "text/plain": [
       "MLPClassifier()"
      ]
     },
     "execution_count": 7,
     "metadata": {},
     "output_type": "execute_result"
    }
   ],
   "source": [
    "#Dummy classifier\n",
    "clf = MLPClassifier()\n",
    "clf"
   ]
  },
  {
   "cell_type": "markdown",
   "metadata": {},
   "source": [
    "<b>2- There are a few parameters needs to be adjusted in this model:<br>\n",
    "a. Hidden_layer_sizes<br>\n",
    "b. Activation<br>\n",
    "c. Solver<br>\n",
    "d. Batch_size<br>\n",
    "e. Learning_rate<br>\n",
    "f. Learning_rate_init</b>"
   ]
  },
  {
   "cell_type": "markdown",
   "metadata": {},
   "source": [
    "<b> Using GridSearchCV to try params for better accuracy"
   ]
  },
  {
   "cell_type": "code",
   "execution_count": 8,
   "metadata": {},
   "outputs": [
    {
     "name": "stdout",
     "output_type": "stream",
     "text": [
      "{'activation': 'identity', 'hidden_layer_sizes': (4,), 'learning_rate': 'adaptive', 'learning_rate_init': 0.08, 'max_iter': 700, 'solver': 'adam'}\n"
     ]
    }
   ],
   "source": [
    "#Adjust Params and applying GridSearchCV to try all combinations.\n",
    "\n",
    "from sklearn.model_selection import GridSearchCV\n",
    "\n",
    "param_grid = [\n",
    "        {\n",
    "            'activation' : ['identity', 'logistic', 'tanh', 'relu'],\n",
    "            'solver' : ['sgd', 'adam'],\n",
    "            'hidden_layer_sizes': [\n",
    "             (1,),(2,),(3,),(4,),(5,),(6,),(7,),(8,),(9,),(10,),(11,), (12,),(13,),(14,),(15,),(16,),(17,),(18,),(19,),(20,),(21,)\n",
    "             ],\n",
    "            'learning_rate_init':[0.08],\n",
    "            'learning_rate':['adaptive'],\n",
    "            'max_iter':[700]\n",
    "        }\n",
    "       ]\n",
    "clf = GridSearchCV(MLPClassifier(), param_grid, cv=5,\n",
    "                           scoring='accuracy')\n",
    "clf.fit(X_train, Y_train)\n",
    "best_params = clf.best_params_\n",
    "print(best_params)"
   ]
  },
  {
   "cell_type": "markdown",
   "metadata": {},
   "source": [
    "<b> Creating model based on best params decided above<br>\n",
    "    Slightly tweaking hidden_layer_sizes to (3,) from 4 bumped up the accuracy"
   ]
  },
  {
   "cell_type": "code",
   "execution_count": 9,
   "metadata": {},
   "outputs": [
    {
     "data": {
      "text/plain": [
       "MLPClassifier(activation='identity', hidden_layer_sizes=(3,),\n",
       "              learning_rate='adaptive', learning_rate_init=0.08, max_iter=700,\n",
       "              random_state=0)"
      ]
     },
     "execution_count": 9,
     "metadata": {},
     "output_type": "execute_result"
    }
   ],
   "source": [
    "clf = MLPClassifier(hidden_layer_sizes=(3,), activation='identity', \n",
    "                    solver = 'adam',\n",
    "                    learning_rate = 'adaptive',\n",
    "                    learning_rate_init = 0.08,\n",
    "                    random_state = 0,\n",
    "                    max_iter=700)\n",
    "clf.fit(X_train, Y_train)"
   ]
  },
  {
   "cell_type": "markdown",
   "metadata": {},
   "source": [
    "<b>Validation: Running prediction on validation data"
   ]
  },
  {
   "cell_type": "code",
   "execution_count": 10,
   "metadata": {},
   "outputs": [],
   "source": [
    "pred_val = clf.predict(X_val)"
   ]
  },
  {
   "cell_type": "markdown",
   "metadata": {},
   "source": [
    "<b>Part 5 – Network metric and plots<br>\n",
    "1- To evaluate your network, calculate confusion matrix.<br>\n",
    "How do you interpret precision and recall?"
   ]
  },
  {
   "cell_type": "code",
   "execution_count": 11,
   "metadata": {},
   "outputs": [
    {
     "name": "stdout",
     "output_type": "stream",
     "text": [
      "Confusion Matrix on Validation Data\n"
     ]
    },
    {
     "data": {
      "image/png": "[encoded data removed]",
      "text/plain": [
       "<Figure size 432x288 with 2 Axes>"
      ]
     },
     "metadata": {
      "needs_background": "light"
     },
     "output_type": "display_data"
    },
    {
     "name": "stdout",
     "output_type": "stream",
     "text": [
      "              precision    recall  f1-score   support\n",
      "\n",
      "           0       0.75      0.93      0.83        75\n",
      "           1       0.77      0.42      0.55        40\n",
      "\n",
      "    accuracy                           0.76       115\n",
      "   macro avg       0.76      0.68      0.69       115\n",
      "weighted avg       0.76      0.76      0.73       115\n",
      "\n"
     ]
    }
   ],
   "source": [
    "print(\"Confusion Matrix on Validation Data\")\n",
    "c = confusion_matrix(Y_val,pred_val)\n",
    "sns.heatmap(c, annot=True, fmt=\"d\")\n",
    "plt.show()\n",
    "print(classification_report(Y_val, pred_val))"
   ]
  },
  {
   "cell_type": "markdown",
   "metadata": {},
   "source": [
    "<b>Observation: Considering accuracy and f1-score on validation data, this model's parameters seem fit. <br>\n",
    "    Going ahead by applying model for test-data"
   ]
  },
  {
   "cell_type": "code",
   "execution_count": 12,
   "metadata": {},
   "outputs": [],
   "source": [
    "pred_test = clf.predict(X_test)"
   ]
  },
  {
   "cell_type": "markdown",
   "metadata": {},
   "source": [
    "<b> Drawing confusion matrix for test-data"
   ]
  },
  {
   "cell_type": "code",
   "execution_count": 13,
   "metadata": {},
   "outputs": [
    {
     "name": "stdout",
     "output_type": "stream",
     "text": [
      "Confusion Matrix on Test Data\n"
     ]
    },
    {
     "data": {
      "image/png": "[encoded data removed]",
      "text/plain": [
       "<Figure size 432x288 with 2 Axes>"
      ]
     },
     "metadata": {
      "needs_background": "light"
     },
     "output_type": "display_data"
    },
    {
     "name": "stdout",
     "output_type": "stream",
     "text": [
      "              precision    recall  f1-score   support\n",
      "\n",
      "           0       0.85      0.95      0.90        55\n",
      "           1       0.81      0.59      0.68        22\n",
      "\n",
      "    accuracy                           0.84        77\n",
      "   macro avg       0.83      0.77      0.79        77\n",
      "weighted avg       0.84      0.84      0.84        77\n",
      "\n"
     ]
    }
   ],
   "source": [
    "print(\"Confusion Matrix on Test Data\")\n",
    "c = confusion_matrix(Y_test,pred_test)\n",
    "sns.heatmap(c, annot=True, fmt=\"d\")\n",
    "plt.show()\n",
    "print(classification_report(Y_test, pred_test))"
   ]
  },
  {
   "cell_type": "markdown",
   "metadata": {},
   "source": [
    "<b> Extracting parameters from confusion matrix of test-data"
   ]
  },
  {
   "cell_type": "code",
   "execution_count": 14,
   "metadata": {},
   "outputs": [],
   "source": [
    "#Getting True Negatives, False Positives, False Negatives and True Postiives\n",
    "TN, FP, FN, TP = c.ravel()"
   ]
  },
  {
   "cell_type": "markdown",
   "metadata": {},
   "source": [
    "<b> Accuracy: (TP + TN) / (TN + FP + FN + TP) -- 84.42%"
   ]
  },
  {
   "cell_type": "code",
   "execution_count": 15,
   "metadata": {},
   "outputs": [
    {
     "name": "stdout",
     "output_type": "stream",
     "text": [
      "Accuracy is 84.42%\n"
     ]
    }
   ],
   "source": [
    "accuracy = ((TP + TN) / (TN + FP + FN + TP))*100.0\n",
    "print(f\"Accuracy is {accuracy:.2f}%\")"
   ]
  },
  {
   "cell_type": "markdown",
   "metadata": {},
   "source": [
    "<b> Precision: (true positives / predicted positives) = TP / TP + FP. - 81.25%"
   ]
  },
  {
   "cell_type": "code",
   "execution_count": 16,
   "metadata": {},
   "outputs": [
    {
     "name": "stdout",
     "output_type": "stream",
     "text": [
      "Precision is 81.25%\n"
     ]
    }
   ],
   "source": [
    "precision = (TP/(TP + FP))*100.0\n",
    "print(f\"Precision is {precision:.2f}%\")"
   ]
  },
  {
   "cell_type": "markdown",
   "metadata": {},
   "source": [
    "<b>Recall: TP/(TP + FN) --> 59.09%"
   ]
  },
  {
   "cell_type": "code",
   "execution_count": 17,
   "metadata": {},
   "outputs": [
    {
     "name": "stdout",
     "output_type": "stream",
     "text": [
      "Recall is 59.09%\n"
     ]
    }
   ],
   "source": [
    "recall = (TP/(TP + FN))*100.0\n",
    "print(f\"Recall is {recall:.2f}%\")"
   ]
  },
  {
   "cell_type": "markdown",
   "metadata": {},
   "source": [
    "<b>Interpretation: <br>\n",
    "   1. Precision of 81.25% indicates that this model correctly predicted 81 diabetic outcomes out of 100. We can safely trust its positive prediction most of the times.<br>\n",
    "   2. Recall of 59.09% indicates that this model is capable to predict 60 diabetic outcomes out of 100 actual diabetic outcomes. This is fairly accurate as well."
   ]
  },
  {
   "cell_type": "markdown",
   "metadata": {},
   "source": [
    "<b>2- Plot error plot for each iteration (epoch) for both validate and train.<br>\n",
    "Based on your parameter setting you may see an overfitting problem. Try to spot it if that’s happened.<br>\n",
    "    3- Once you finish your parameter tunning, run your model on your test data set and create\n",
    "a plot for your test the same as previous step"
   ]
  },
  {
   "cell_type": "code",
   "execution_count": 18,
   "metadata": {},
   "outputs": [
    {
     "data": {
      "image/png": "[encoded data removed]",
      "text/plain": [
       "<Figure size 432x288 with 1 Axes>"
      ]
     },
     "metadata": {
      "needs_background": "light"
     },
     "output_type": "display_data"
    }
   ],
   "source": [
    "#For validation data\n",
    "clf.fit(X_val, Y_val)\n",
    "plt.xlabel(\"Iteration(epochs)\")\n",
    "plt.ylabel(\"Loss\")\n",
    "plt.plot(clf.loss_curve_)\n",
    "plt.show()"
   ]
  },
  {
   "cell_type": "code",
   "execution_count": 19,
   "metadata": {},
   "outputs": [
    {
     "data": {
      "image/png": "[encoded data removed]",
      "text/plain": [
       "<Figure size 432x288 with 1 Axes>"
      ]
     },
     "metadata": {
      "needs_background": "light"
     },
     "output_type": "display_data"
    }
   ],
   "source": [
    "#For test data\n",
    "clf.fit(X_test, Y_test)\n",
    "plt.xlabel(\"Iteration(epochs)\")\n",
    "plt.ylabel(\"Loss\")\n",
    "plt.plot(clf.loss_curve_)\n",
    "plt.show()"
   ]
  },
  {
   "cell_type": "markdown",
   "metadata": {},
   "source": [
    "<b>Observation showing overfitting problem:</b>\n",
    "1) This model has a high validation loss at the beginning but gradually decreases upon adding training data <br>\n",
    "2) This model's training and validation loss are a lot different from each other.<br>"
   ]
  }
 ],
 "metadata": {
  "kernelspec": {
   "display_name": "Python 3",
   "language": "python",
   "name": "python3"
  },
  "language_info": {
   "codemirror_mode": {
    "name": "ipython",
    "version": 3
   },
   "file_extension": ".py",
   "mimetype": "text/x-python",
   "name": "python",
   "nbconvert_exporter": "python",
   "pygments_lexer": "ipython3",
   "version": "3.8.5"
  }
 },
 "nbformat": 4,
 "nbformat_minor": 4
}
