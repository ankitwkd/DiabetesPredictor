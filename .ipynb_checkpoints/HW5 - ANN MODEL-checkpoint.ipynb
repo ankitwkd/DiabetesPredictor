{
 "cells": [
  {
   "cell_type": "markdown",
   "metadata": {},
   "source": [
    "<b>Name: Ankit Pattanayak<br>\n",
    "CSULB ID: 027646357` </b>"
   ]
  },
  {
   "cell_type": "markdown",
   "metadata": {},
   "source": [
    "<b> In this assignment, we build a simple ANN model for a dataset and we explore some methods to optimize model parameters.</b>"
   ]
  },
  {
   "cell_type": "markdown",
   "metadata": {},
   "source": [
    "<b> 2- Dependencies<br>\n",
    "Python > 2.7<br>\n",
    "Scikit Learn package<br>\n",
    "Pandas toolkit (If it is needed)<br>\n",
    "Numpy toolkit (If it is needed) </b>"
   ]
  },
  {
   "cell_type": "code",
   "execution_count": null,
   "metadata": {},
   "outputs": [],
   "source": []
  }
 ],
 "metadata": {
  "kernelspec": {
   "display_name": "Python 3",
   "language": "python",
   "name": "python3"
  },
  "language_info": {
   "codemirror_mode": {
    "name": "ipython",
    "version": 3
   },
   "file_extension": ".py",
   "mimetype": "text/x-python",
   "name": "python",
   "nbconvert_exporter": "python",
   "pygments_lexer": "ipython3",
   "version": "3.8.5"
  }
 },
 "nbformat": 4,
 "nbformat_minor": 4
}
